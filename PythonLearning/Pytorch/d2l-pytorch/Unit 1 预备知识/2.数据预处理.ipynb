{
 "cells": [
  {
   "cell_type": "code",
   "execution_count": 19,
   "metadata": {
    "collapsed": true,
    "pycharm": {
     "name": "#%%\n"
    }
   },
   "outputs": [
    {
     "name": "stdout",
     "output_type": "stream",
     "text": [
      "   NumRooms Alley   Price\n",
      "0       NaN  Pave  127500\n",
      "1       2.0   NaN  106000\n",
      "2       4.0   NaN  178100\n",
      "3       NaN   NaN  140000 \n",
      "\n",
      "   NumRooms Alley\n",
      "0       NaN  Pave\n",
      "1       2.0   NaN\n",
      "2       4.0   NaN\n",
      "3       NaN   NaN \n",
      "\n",
      "   NumRooms Alley\n",
      "0       3.0  Pave\n",
      "1       2.0   NaN\n",
      "2       4.0   NaN\n",
      "3       3.0   NaN \n",
      "\n",
      "   NumRooms  Alley_Pave  Alley_nan\n",
      "0       3.0           1          0\n",
      "1       2.0           0          1\n",
      "2       4.0           0          1\n",
      "3       3.0           0          1 \n",
      "\n",
      "0    127500\n",
      "1    106000\n",
      "2    178100\n",
      "3    140000\n",
      "Name: Price, dtype: int64 \n",
      "\n",
      "tensor([[3., 1., 0.],\n",
      "        [2., 0., 1.],\n",
      "        [4., 0., 1.],\n",
      "        [3., 0., 1.]], dtype=torch.float64) \n",
      " tensor([127500, 106000, 178100, 140000]) \n",
      "\n"
     ]
    },
    {
     "name": "stderr",
     "output_type": "stream",
     "text": [
      "/home/zhengyuheng/anaconda3/envs/Deeplearning/lib/python3.7/site-packages/ipykernel_launcher.py:21: FutureWarning: Dropping of nuisance columns in DataFrame reductions (with 'numeric_only=None') is deprecated; in a future version this will raise TypeError.  Select only valid columns before calling the reduction.\n"
     ]
    }
   ],
   "source": [
    "#创建一个人工数据集，并存储在csv文件\n",
    "import os\n",
    "os.makedirs(os.path.join('/home/zhengyuheng/Code/PythonLearning/Pytorch/d2l-pytorch/Unit 1 预备知识', 'data'), exist_ok=True)\n",
    "data_file = os.path.join('/home/zhengyuheng/Code/PythonLearning/Pytorch/d2l-pytorch/Unit 1 预备知识', 'data', 'house_tiny.csv')\n",
    "#创建csv文件\n",
    "with open(data_file, 'w') as f:\n",
    "    f.write('NumRooms,Alley,Price\\n')  # 列名\n",
    "    f.write('NA,Pave,127500\\n')  # 每行表示一个数据样本\n",
    "    f.write('2,NA,106000\\n')\n",
    "    f.write('4,NA,178100\\n')\n",
    "    f.write('NA,NA,140000\\n')\n",
    "\n",
    "#读取数据\n",
    "import pandas as pd\n",
    "data = pd.read_csv(data_file)\n",
    "print(data,\"\\n\")\n",
    "\n",
    "inputs = data.iloc[:,0:2]\n",
    "outputs = data.iloc[:,2]\n",
    "print(inputs,\"\\n\")\n",
    "inputs = inputs.fillna(inputs.mean()) #用平均值填写缺失数据\n",
    "print(inputs,\"\\n\")\n",
    "inputs = pd.get_dummies(inputs, dummy_na=True)\n",
    "print(inputs,\"\\n\")\n",
    "print(outputs,\"\\n\")\n",
    "\n",
    "import torch\n",
    "\n",
    "X,Y = torch.tensor(inputs.values), torch.tensor(outputs.values)\n",
    "print(X,\"\\n\",Y,\"\\n\")"
   ]
  }
 ],
 "metadata": {
  "kernelspec": {
   "display_name": "Python 3",
   "language": "python",
   "name": "python3"
  },
  "language_info": {
   "codemirror_mode": {
    "name": "ipython",
    "version": 2
   },
   "file_extension": ".py",
   "mimetype": "text/x-python",
   "name": "python",
   "nbconvert_exporter": "python",
   "pygments_lexer": "ipython2",
   "version": "2.7.6"
  }
 },
 "nbformat": 4,
 "nbformat_minor": 0
}