{
 "cells": [
  {
   "cell_type": "code",
   "execution_count": 2,
   "metadata": {
    "collapsed": true
   },
   "outputs": [
    {
     "name": "stdout",
     "output_type": "stream",
     "text": [
      "tensor([1., 1., 1.])\n",
      "tensor(1.)\n",
      "1.0\n",
      "tensor([1., 1., 2.])\n"
     ]
    }
   ],
   "source": [
    "import torch\n",
    "a = torch.ones(3)\n",
    "print(a)\n",
    "print(a[2])\n",
    "print(float(a[2]))\n",
    "a[2] = 2.0\n",
    "print(a)"
   ]
  },
  {
   "cell_type": "code",
   "execution_count": 10,
   "outputs": [
    {
     "name": "stdout",
     "output_type": "stream",
     "text": [
      "tensor([3., 2., 1.])\n",
      "tensor([1, 2, 3])\n",
      "tensor([[1., 2.],\n",
      "        [3., 4.],\n",
      "        [5., 6.]])\n",
      "torch.Size([3, 2])\n",
      "torch.Size([3, 2])\n"
     ]
    }
   ],
   "source": [
    "points = torch.zeros(3)\n",
    "points[0] = 3.0\n",
    "points[1] = 2.0\n",
    "points[2] = 1.0\n",
    "print(points)\n",
    "points = torch.tensor([1,2,3])\n",
    "print(points)\n",
    "points = torch.tensor([[1.,2.],[3.,4.],[5.,6.]])\n",
    "print(points)\n",
    "print(points.shape)\n",
    "print(points.size())"
   ],
   "metadata": {
    "collapsed": false,
    "pycharm": {
     "name": "#%%\n"
    }
   }
  },
  {
   "cell_type": "code",
   "execution_count": 5,
   "outputs": [
    {
     "name": "stdout",
     "output_type": "stream",
     "text": [
      " 1.0\n",
      " 2.0\n",
      " 3.0\n",
      " 4.0\n",
      " 5.0\n",
      " 6.0\n",
      "[torch.FloatStorage of size 6]\n",
      "4\n",
      "3\n",
      "5\n",
      "0\n",
      "(2, 1)\n",
      "tensor([[1., 3., 5.],\n",
      "        [2., 4., 6.]])\n",
      "(1, 2)\n"
     ]
    }
   ],
   "source": [
    "points = torch.tensor([[1.,2.],[3.,4.],[5.,6.]])\n",
    "print(points.storage())  #张量中的所有元素\n",
    "second_point = points[2]\n",
    "print(second_point.storage_offset())   #元素在张量中的位置\n",
    "third_point = points[1][1]\n",
    "forth_point = second_point[1]\n",
    "print(third_point.storage_offset())\n",
    "print(forth_point.storage_offset())\n",
    "another_point = points[1].clone()\n",
    "print(another_point.storage_offset())\n",
    "\n",
    "print(points.stride())   #每个维度变一下，对应要在内存跳多长\n",
    "\n",
    "points_t = points.t()    #转置矩阵\n",
    "print(points_t)\n",
    "print(points_t.stride())"
   ],
   "metadata": {
    "collapsed": false,
    "pycharm": {
     "name": "#%%\n"
    }
   }
  },
  {
   "cell_type": "code",
   "execution_count": 8,
   "outputs": [
    {
     "name": "stdout",
     "output_type": "stream",
     "text": [
      "(20, 5, 1)\n",
      "torch.Size([5, 4, 3])\n",
      "(1, 5, 20)\n",
      "True\n",
      "False\n"
     ]
    }
   ],
   "source": [
    "some_t = torch.ones(3,4,5)\n",
    "print(some_t.stride())\n",
    "transpose_t = some_t.transpose(0,2)    #把0维和2维做替换\n",
    "print(transpose_t.shape)\n",
    "print(transpose_t.stride())\n",
    "print(some_t.is_contiguous())    #在内存里是否连续\n",
    "print(transpose_t.is_contiguous())"
   ],
   "metadata": {
    "collapsed": false,
    "pycharm": {
     "name": "#%%\n"
    }
   }
  },
  {
   "cell_type": "code",
   "execution_count": 13,
   "outputs": [
    {
     "name": "stdout",
     "output_type": "stream",
     "text": [
      "tensor([[1., 1.],\n",
      "        [1., 1.],\n",
      "        [1., 1.],\n",
      "        [1., 1.],\n",
      "        [1., 1.]], dtype=torch.float64)\n",
      "tensor([[1, 2],\n",
      "        [3, 4]], dtype=torch.int16)\n",
      "tensor([[1., 2.],\n",
      "        [3., 4.]], dtype=torch.float64)\n",
      "tensor([[0.3696, 0.3512, 0.0192],\n",
      "        [0.9012, 0.9574, 0.4486],\n",
      "        [0.6438, 0.0635, 0.3628],\n",
      "        [0.7502, 0.9651, 0.5680]], dtype=torch.float64)\n"
     ]
    }
   ],
   "source": [
    "double_points = torch.ones(5,2,dtype=torch.double)\n",
    "short_points = torch.tensor([[1,2],[3,4]],dtype=torch.short)\n",
    "print(double_points)\n",
    "print(short_points)\n",
    "print(short_points.double())\n",
    "rand_points = torch.rand(4,3,dtype=torch.double)  #只能随机生成小数\n",
    "print(rand_points)"
   ],
   "metadata": {
    "collapsed": false,
    "pycharm": {
     "name": "#%%\n"
    }
   }
  },
  {
   "cell_type": "code",
   "execution_count": 15,
   "outputs": [
    {
     "name": "stdout",
     "output_type": "stream",
     "text": [
      "tensor([[1., 2.],\n",
      "        [3., 4.]], dtype=torch.float64)\n"
     ]
    }
   ],
   "source": [
    "double_points = torch.ones(2,2,dtype=torch.double)\n",
    "short_points = torch.tensor([[1,2],[3,4]],dtype=torch.short)\n",
    "print(double_points * short_points)   #点乘，对应元素相乘"
   ],
   "metadata": {
    "collapsed": false,
    "pycharm": {
     "name": "#%%\n"
    }
   }
  },
  {
   "cell_type": "code",
   "execution_count": 3,
   "outputs": [
    {
     "name": "stdout",
     "output_type": "stream",
     "text": [
      "tensor([5., 2.])\n",
      "torch.Size([1, 3, 2])\n"
     ]
    }
   ],
   "source": [
    "points = torch.tensor([[4.,1.],[5.,3.],[2.,1.]])\n",
    "print(points[1:,0])\n",
    "print(points[None])"
   ],
   "metadata": {
    "collapsed": false,
    "pycharm": {
     "name": "#%%\n"
    }
   }
  },
  {
   "cell_type": "code",
   "execution_count": 11,
   "outputs": [
    {
     "name": "stdout",
     "output_type": "stream",
     "text": [
      "[[1. 1. 1. 1.]\n",
      " [1. 1. 1. 1.]\n",
      " [1. 1. 1. 1.]]\n",
      "tensor([[1., 1., 1., 1.],\n",
      "        [1., 1., 1., 1.],\n",
      "        [1., 1., 1., 1.]])\n"
     ]
    }
   ],
   "source": [
    "points = torch.ones(3,4)\n",
    "points_np = points.numpy()\n",
    "print(points_np)\n",
    "points = torch.from_numpy(points_np)\n",
    "print(points)"
   ],
   "metadata": {
    "collapsed": false,
    "pycharm": {
     "name": "#%%\n"
    }
   }
  },
  {
   "cell_type": "code",
   "execution_count": 3,
   "outputs": [
    {
     "name": "stdout",
     "output_type": "stream",
     "text": [
      "tensor([[1., 1., 1., 1.],\n",
      "        [1., 1., 1., 1.],\n",
      "        [1., 1., 1., 1.]])\n"
     ]
    }
   ],
   "source": [
    "points = torch.ones(3,4)\n",
    "torch.save(points,'/home/zhengyuheng/Code/PythonLearning/Pytorch/Deep  Learning  with  Pytorch/save.t')\n",
    "P = torch.load('/home/zhengyuheng/Code/PythonLearning/Pytorch/Deep  Learning  with  Pytorch/save.t')\n",
    "print(P)"
   ],
   "metadata": {
    "collapsed": false,
    "pycharm": {
     "name": "#%%\n"
    }
   }
  },
  {
   "cell_type": "code",
   "execution_count": null,
   "outputs": [],
   "source": [],
   "metadata": {
    "collapsed": false,
    "pycharm": {
     "name": "#%%\n"
    }
   }
  }
 ],
 "metadata": {
  "kernelspec": {
   "display_name": "Python 3",
   "language": "python",
   "name": "python3"
  },
  "language_info": {
   "codemirror_mode": {
    "name": "ipython",
    "version": 2
   },
   "file_extension": ".py",
   "mimetype": "text/x-python",
   "name": "python",
   "nbconvert_exporter": "python",
   "pygments_lexer": "ipython2",
   "version": "2.7.6"
  }
 },
 "nbformat": 4,
 "nbformat_minor": 0
}