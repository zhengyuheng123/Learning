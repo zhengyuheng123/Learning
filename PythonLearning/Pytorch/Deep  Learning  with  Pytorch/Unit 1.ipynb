{
 "cells": [
  {
   "cell_type": "code",
   "execution_count": 8,
   "metadata": {
    "collapsed": true
   },
   "outputs": [
    {
     "name": "stdout",
     "output_type": "stream",
     "text": [
      "tensor([[1., 1., 1.],\n",
      "        [1., 1., 1.],\n",
      "        [1., 1., 1.]])\n",
      "tensor([[2., 2., 2.],\n",
      "        [2., 2., 2.],\n",
      "        [2., 2., 2.]])\n",
      "tensor([[2., 2., 2.],\n",
      "        [2., 2., 2.],\n",
      "        [2., 2., 2.]], device='cuda:0')\n"
     ]
    }
   ],
   "source": [
    "import torch\n",
    "torch.version.__version__\n",
    "\n",
    "a = torch.ones(3,3)\n",
    "print(a)\n",
    "\n",
    "b = torch.ones(3,3)\n",
    "print(a+b)\n",
    "\n",
    "a = a.to('cuda')   #将a从cpu放入gpu\n",
    "b = b.to('cuda')\n",
    "print(a+b)\n",
    "\n",
    "a = a.to('cpu')    #将a放回cpu"
   ]
  },
  {
   "cell_type": "code",
   "execution_count": 13,
   "outputs": [
    {
     "data": {
      "text/plain": "['AlexNet',\n 'DenseNet',\n 'GoogLeNet',\n 'GoogLeNetOutputs',\n 'Inception3',\n 'InceptionOutputs',\n 'MNASNet',\n 'MobileNetV2',\n 'MobileNetV3',\n 'ResNet',\n 'ShuffleNetV2',\n 'SqueezeNet',\n 'VGG',\n '_GoogLeNetOutputs',\n '_InceptionOutputs',\n '__builtins__',\n '__cached__',\n '__doc__',\n '__file__',\n '__loader__',\n '__name__',\n '__package__',\n '__path__',\n '__spec__',\n '_utils',\n 'alexnet',\n 'densenet',\n 'densenet121',\n 'densenet161',\n 'densenet169',\n 'densenet201',\n 'detection',\n 'googlenet',\n 'inception',\n 'inception_v3',\n 'mnasnet',\n 'mnasnet0_5',\n 'mnasnet0_75',\n 'mnasnet1_0',\n 'mnasnet1_3',\n 'mobilenet',\n 'mobilenet_v2',\n 'mobilenet_v3_large',\n 'mobilenet_v3_small',\n 'mobilenetv2',\n 'mobilenetv3',\n 'quantization',\n 'resnet',\n 'resnet101',\n 'resnet152',\n 'resnet18',\n 'resnet34',\n 'resnet50',\n 'resnext101_32x8d',\n 'resnext50_32x4d',\n 'segmentation',\n 'shufflenet_v2_x0_5',\n 'shufflenet_v2_x1_0',\n 'shufflenet_v2_x1_5',\n 'shufflenet_v2_x2_0',\n 'shufflenetv2',\n 'squeezenet',\n 'squeezenet1_0',\n 'squeezenet1_1',\n 'utils',\n 'vgg',\n 'vgg11',\n 'vgg11_bn',\n 'vgg13',\n 'vgg13_bn',\n 'vgg16',\n 'vgg16_bn',\n 'vgg19',\n 'vgg19_bn',\n 'video',\n 'wide_resnet101_2',\n 'wide_resnet50_2']"
     },
     "execution_count": 13,
     "metadata": {},
     "output_type": "execute_result"
    }
   ],
   "source": [
    "from torchvision import models\n",
    "\n",
    "dir(models)\n",
    "#alexnet = models.AlexNet()\n",
    "#print(alexnet)"
   ],
   "metadata": {
    "collapsed": false,
    "pycharm": {
     "name": "#%%\n"
    }
   }
  },
  {
   "cell_type": "code",
   "execution_count": 14,
   "outputs": [
    {
     "name": "stdout",
     "output_type": "stream",
     "text": [
      "tensor([[2., 2., 2.],\n",
      "        [2., 2., 2.],\n",
      "        [2., 2., 2.]])\n"
     ]
    }
   ],
   "source": [
    "a = torch.ones(3,3)\n",
    "print(a+1.0)"
   ],
   "metadata": {
    "collapsed": false,
    "pycharm": {
     "name": "#%%\n"
    }
   }
  }
 ],
 "metadata": {
  "kernelspec": {
   "display_name": "Python 3",
   "language": "python",
   "name": "python3"
  },
  "language_info": {
   "codemirror_mode": {
    "name": "ipython",
    "version": 2
   },
   "file_extension": ".py",
   "mimetype": "text/x-python",
   "name": "python",
   "nbconvert_exporter": "python",
   "pygments_lexer": "ipython2",
   "version": "2.7.6"
  }
 },
 "nbformat": 4,
 "nbformat_minor": 0
}