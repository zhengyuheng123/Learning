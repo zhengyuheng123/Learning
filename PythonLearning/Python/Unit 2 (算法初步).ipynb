{
 "cells": [
  {
   "cell_type": "code",
   "execution_count": 1,
   "metadata": {
    "collapsed": true
   },
   "outputs": [
    {
     "name": "stdout",
     "output_type": "stream",
     "text": [
      "a is bigger than 100.\n",
      "a line means nothing.\n",
      "a is a int.\n"
     ]
    }
   ],
   "source": [
    "a = 103\n",
    "if a>100:\n",
    "    print(\"a is bigger than 100.\")\n",
    "    print(\"a line means nothing.\")\n",
    "else:\n",
    "    pass\n",
    "print(\"a is a int.\")"
   ]
  },
  {
   "cell_type": "code",
   "execution_count": 2,
   "outputs": [
    {
     "name": "stdout",
     "output_type": "stream",
     "text": [
      "5\n",
      "5\n",
      "3.0\n"
     ]
    }
   ],
   "source": [
    "#符合操作符\n",
    "a = 3\n",
    "a = a + 2\n",
    "print(a)\n",
    "b = 3\n",
    "b += 2\n",
    "print(b)\n",
    "c = 9\n",
    "c /= 3\n",
    "print(c)"
   ],
   "metadata": {
    "collapsed": false,
    "pycharm": {
     "name": "#%%\n"
    }
   }
  },
  {
   "cell_type": "code",
   "execution_count": 3,
   "outputs": [
    {
     "name": "stdout",
     "output_type": "stream",
     "text": [
      "3\n",
      "1\n"
     ]
    }
   ],
   "source": [
    "#整除与求模\n",
    "a = 10\n",
    "b = a // 3  #整除，下取整\n",
    "print(b)\n",
    "c = a % 3   #求模\n",
    "print(c)"
   ],
   "metadata": {
    "collapsed": false,
    "pycharm": {
     "name": "#%%\n"
    }
   }
  },
  {
   "cell_type": "code",
   "execution_count": 7,
   "outputs": [
    {
     "name": "stdout",
     "output_type": "stream",
     "text": [
      "a>5: True\n",
      "a<20 and a>=10: True\n",
      "a != 3: True\n",
      "a>100 or a<20: True\n",
      "not a>= 10: False\n"
     ]
    }
   ],
   "source": [
    "#比较与逻辑\n",
    "a = 10\n",
    "print(\"a>5:\",a>5)\n",
    "print(\"a<20 and a>=10:\",a<20 and a>=10)\n",
    "print(\"a != 3:\",a != 3)\n",
    "print(\"a>100 or a<20:\",a>100 or a<20)\n",
    "print(\"not a>= 10:\",not a>= 10)"
   ],
   "metadata": {
    "collapsed": false,
    "pycharm": {
     "name": "#%%\n"
    }
   }
  },
  {
   "cell_type": "code",
   "execution_count": 1,
   "outputs": [
    {
     "name": "stdout",
     "output_type": "stream",
     "text": [
      "8\n"
     ]
    }
   ],
   "source": [
    "#求幂\n",
    "n = 2 ** 3   #2的3次方\n",
    "print(n)"
   ],
   "metadata": {
    "collapsed": false,
    "pycharm": {
     "name": "#%%\n"
    }
   }
  },
  {
   "cell_type": "code",
   "execution_count": 7,
   "outputs": [
    {
     "name": "stdout",
     "output_type": "stream",
     "text": [
      "现在是格林尼治时间： 13 时: 11 分: 5 秒\n"
     ]
    }
   ],
   "source": [
    "#地球时间\n",
    "import time   #导入一个叫做time的模块\n",
    "curTime = time.time()  #从1970.1.1 0：0：0到现在经过的总秒数\n",
    "totalSeconds = int(curTime)\n",
    "curSeconds = totalSeconds % 60       #当前秒数\n",
    "totalMinutes = totalSeconds // 60    #总分钟数\n",
    "curMinute = totalMinutes % 60        #当前分钟数\n",
    "totalHours = totalMinutes //60       #总小时数\n",
    "curHour = totalHours % 24            #当前小时数\n",
    "print(\"现在是格林尼治时间：\",curHour,\"时:\",curMinute,\"分:\",curSeconds,\"秒\")"
   ],
   "metadata": {
    "collapsed": false,
    "pycharm": {
     "name": "#%%\n"
    }
   }
  },
  {
   "cell_type": "code",
   "execution_count": 11,
   "outputs": [
    {
     "name": "stdout",
     "output_type": "stream",
     "text": [
      "2021 - 6 - 16 \n",
      " 21 - 15 - 59\n"
     ]
    }
   ],
   "source": [
    "#查看当前时间\n",
    "import  datetime\n",
    "curDate = datetime.datetime.now()  #当前的系统时间\n",
    "print(curDate.year,\"-\",curDate.month,\"-\",curDate.day,\"\\n\",\\\n",
    "      curDate.hour,\"-\",curDate.minute,\"-\",curDate.second)    #续行符"
   ],
   "metadata": {
    "collapsed": false,
    "pycharm": {
     "name": "#%%\n"
    }
   }
  },
  {
   "cell_type": "code",
   "execution_count": 17,
   "outputs": [
    {
     "name": "stdout",
     "output_type": "stream",
     "text": [
      "2^8= 256\n",
      "|-10|= 10\n",
      "7/2≈ 4\n",
      "Power cost of Mr Zhang: 572.9\n",
      "Power cost of Mr Li: 93.5\n"
     ]
    }
   ],
   "source": [
    "#函数\n",
    "n1 = pow(2,8)     #2的8次方\n",
    "n2 = abs(-10)     #绝对值\n",
    "n3 = round(7/2)   #四舍五入\n",
    "print(\"2^8=\",n1)\n",
    "print(\"|-10|=\",n2)\n",
    "print(\"7/2≈\",n3)\n",
    "\n",
    "#函数定义\n",
    "#def <函数名>(<形参列表>)：\n",
    "#    <函数体>\n",
    "#    return <返回值列表>\n",
    "\n",
    "#电费计算：(期末读数-期初读数)*单价\n",
    "def costCompute(iStart,iEnd):  #形式参数\n",
    "    iConsume = iEnd - iStart\n",
    "    return iConsume * 0.85\n",
    "\n",
    "fElecFee1 = costCompute(1201,1875)   #Mr Zhang\n",
    "fElecFee2 = costCompute(1322,1432)   #Mr Li\n",
    "print(\"Power cost of Mr Zhang:\",fElecFee1)\n",
    "print(\"Power cost of Mr Li:\",fElecFee2)"
   ],
   "metadata": {
    "collapsed": false,
    "pycharm": {
     "name": "#%%\n"
    }
   }
  },
  {
   "cell_type": "code",
   "execution_count": 19,
   "outputs": [
    {
     "name": "stdout",
     "output_type": "stream",
     "text": [
      "67\n",
      "68\n",
      "3.0\n",
      "4.0\n"
     ]
    }
   ],
   "source": [
    "#math模块\n",
    "import math\n",
    "print(math.floor(67.7))   #下取整\n",
    "print(math.ceil(67.1))    #上取整\n",
    "print(math.sqrt(9))       #平方根\n",
    "\n",
    "from math import sqrt\n",
    "print(sqrt(16))"
   ],
   "metadata": {
    "collapsed": false,
    "pycharm": {
     "name": "#%%\n"
    }
   }
  },
  {
   "cell_type": "code",
   "execution_count": 2,
   "outputs": [],
   "source": [
    "#乌龟画图\n",
    "import turtle\n",
    "t = turtle.Pen()   #Pen对象\n",
    "iCirclesCount = 30\n",
    "for x in  range(iCirclesCount):\n",
    "    t.circle(100)    #画100大的圈\n",
    "    t.left(360/iCirclesCount)   #向左转一定角度"
   ],
   "metadata": {
    "collapsed": false,
    "pycharm": {
     "name": "#%%\n"
    }
   }
  },
  {
   "cell_type": "code",
   "execution_count": 4,
   "outputs": [
    {
     "name": "stdout",
     "output_type": "stream",
     "text": [
      "Hi, Alex ,You are 25 years old.\n"
     ]
    }
   ],
   "source": [
    "#获取用户输入\n",
    "sName = input(\"What's your name ?\")\n",
    "iAge = input(\"How old are you ?\")\n",
    "iAge = int(iAge)\n",
    "print(\"Hi,\",sName,\",You are\",iAge,\"years old.\")"
   ],
   "metadata": {
    "collapsed": false,
    "pycharm": {
     "name": "#%%\n"
    }
   }
  },
  {
   "cell_type": "code",
   "execution_count": 6,
   "outputs": [
    {
     "name": "stdout",
     "output_type": "stream",
     "text": [
      "Mary is 18 years old.\n",
      "Mary is 18 years old.\n",
      "Mary is 18 years old.\n"
     ]
    }
   ],
   "source": [
    "#占位符\n",
    "sName = \"Mary\"\n",
    "iAge = 18\n",
    "sText = \"%s is %d years old.\"%(sName,iAge)   #占位符\n",
    "print(sText)\n",
    "print(\"%s is %d years old.\"%(sName,iAge))\n",
    "print(\"%s is\"%sName,\"%d years old.\"%iAge)"
   ],
   "metadata": {
    "collapsed": false,
    "pycharm": {
     "name": "#%%\n"
    }
   }
  },
  {
   "cell_type": "code",
   "execution_count": 9,
   "outputs": [
    {
     "name": "stdout",
     "output_type": "stream",
     "text": [
      "0xff= 255 ,0b111= 7\n",
      "255 = 0xff\n",
      "7 = 0b111\n",
      "ff\n"
     ]
    }
   ],
   "source": [
    "#进制\n",
    "a = 0xff  #0x是十六进制\n",
    "b = 0b111 #0b是二进制\n",
    "print(\"0xff=\",a,\",0b111=\",b)   #十进制输出\n",
    "print(a,\"=\",hex(a))   #十六进制输出\n",
    "print(b,\"=\",bin(b))   #二进制输出\n",
    "print(\"%x\"%(255))     #占位符十六进制输出"
   ],
   "metadata": {
    "collapsed": false,
    "pycharm": {
     "name": "#%%\n"
    }
   }
  },
  {
   "cell_type": "code",
   "execution_count": 12,
   "outputs": [
    {
     "name": "stdout",
     "output_type": "stream",
     "text": [
      "10 11 12 13\n",
      "14 15 16 17\n",
      "18 19 20 21 <class 'str'>\n"
     ]
    }
   ],
   "source": [
    "#多行字符串\n",
    "a = \"\"\"10 11 12 13\n",
    "14 15 16 17\n",
    "18 19 20 21\"\"\"\n",
    "print(a,type(a))"
   ],
   "metadata": {
    "collapsed": false,
    "pycharm": {
     "name": "#%%\n"
    }
   }
  },
  {
   "cell_type": "code",
   "execution_count": 14,
   "outputs": [
    {
     "name": "stdout",
     "output_type": "stream",
     "text": [
      "abc\n"
     ]
    }
   ],
   "source": [
    "#注释\n",
    "#单行注释\n",
    "\n",
    "\"\"\"\n",
    "多行注释\n",
    "\"\"\"\n",
    "print(\"abc\")\n"
   ],
   "metadata": {
    "collapsed": false,
    "pycharm": {
     "name": "#%%\n"
    }
   }
  }
 ],
 "metadata": {
  "kernelspec": {
   "display_name": "Python 3",
   "language": "python",
   "name": "python3"
  },
  "language_info": {
   "codemirror_mode": {
    "name": "ipython",
    "version": 2
   },
   "file_extension": ".py",
   "mimetype": "text/x-python",
   "name": "python",
   "nbconvert_exporter": "python",
   "pygments_lexer": "ipython2",
   "version": "2.7.6"
  }
 },
 "nbformat": 4,
 "nbformat_minor": 0
}