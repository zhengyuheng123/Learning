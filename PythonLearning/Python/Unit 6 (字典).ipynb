{
 "cells": [
  {
   "cell_type": "code",
   "execution_count": 2,
   "metadata": {
    "collapsed": true
   },
   "outputs": [
    {
     "name": "stdout",
     "output_type": "stream",
     "text": [
      "{'Alex': '6511-2002', 'Betty': '6512-7252', 'Dora': '6546-0278', 'Peter': '6716-4203'} <class 'dict'>\n",
      "6557-7272\n"
     ]
    }
   ],
   "source": [
    "#字典\n",
    "phoneBook = {'Alex':'6511-2002','Betty':'6512-7252','Dora':'6546-0278','Peter':'6716-4203'}\n",
    "print(phoneBook,type(phoneBook))\n",
    "phoneBook['Dorothy'] = '6557-7272'\n",
    "print(phoneBook['Dorothy'])"
   ]
  },
  {
   "cell_type": "code",
   "execution_count": 5,
   "outputs": [
    {
     "name": "stdout",
     "output_type": "stream",
     "text": [
      "{'name': 'dorothy', 'id': '10003', 'age': 26}\n",
      "{'name': 'dorothy', 'id': '10003', 'age': 26}\n",
      "Key age exists in dict dorothy.\n"
     ]
    }
   ],
   "source": [
    "#dict()函数\n",
    "items = [('name','dorothy'),('id','10003'),('age',26)]\n",
    "dorothy = dict(items)\n",
    "print(dorothy)\n",
    "dorothy = dict(name='dorothy',id='10003',age=26)\n",
    "print(dorothy)\n",
    "if 'name' in dorothy:\n",
    "    print(\"Key age exists in dict dorothy.\")"
   ],
   "metadata": {
    "collapsed": false,
    "pycharm": {
     "name": "#%%\n"
    }
   }
  },
  {
   "cell_type": "code",
   "execution_count": 13,
   "outputs": [
    {
     "name": "stdout",
     "output_type": "stream",
     "text": [
      "10000 Jack Ma male 47 CEO\n"
     ]
    }
   ],
   "source": [
    "#字典的嵌套\n",
    "jack = {'id':'10000','name':'Jack Ma','gender':'male','age':47,'title':'CEO'}\n",
    "mary = {'id':'10001','name':'Mary Lee','gender':'female','age':25,'title':'Secretary'}\n",
    "tom = {'id':'10002','name':'Tom Henry','gender':'male','age':28,'title':'Engineer'}\n",
    "dora = {'id':'10003','name':'Dora Chen','gender':'female','age':32,'title':'Sales'}\n",
    "employees = {'10000':jack,'10001':mary,'10002':tom,'10003':dora}\n",
    "sId = input(\"Please input the employee id:\")\n",
    "if sId not in employees:\n",
    "    print('The ID does not exist.')\n",
    "else:\n",
    "    e = employees[sId]\n",
    "    print(e['id'],e['name'],e['gender'],e['age'],e['title'])"
   ],
   "metadata": {
    "collapsed": false,
    "pycharm": {
     "name": "#%%\n"
    }
   }
  },
  {
   "cell_type": "code",
   "execution_count": 2,
   "outputs": [
    {
     "name": "stdout",
     "output_type": "stream",
     "text": [
      "Mary have 3 lambs, they are happy, nauty and cot.\n"
     ]
    }
   ],
   "source": [
    "#字符串映射替换\n",
    "sText = \"Mary have {} lambs, they are {n1}, {n2} and {}.\".format(3,'cot',n1='happy',n2='nauty')\n",
    "print(sText)"
   ],
   "metadata": {
    "collapsed": false,
    "pycharm": {
     "name": "#%%\n"
    }
   }
  },
  {
   "cell_type": "code",
   "execution_count": 17,
   "outputs": [
    {
     "name": "stdout",
     "output_type": "stream",
     "text": [
      "{'id': '10003', 'name': 'Dora Chen', 'gender': 'female', 'age': 32, 'title': 'sales'} {}\n",
      "{'id': 'NOTKNOWN', 'name': 'NOTKNOWN', 'age': 'NOTKNOWN'}\n",
      "{'id': 'NOTKNOWN', 'name': 'NOTKNOWN', 'age': 'NOTKNOWN'}\n",
      "id: 10003\n",
      "name: Dora Chen\n",
      "salary: 3000\n",
      "sales {'id': '10003', 'name': 'Dora Chen', 'gender': 'female', 'age': 32}\n",
      "('age', 32) {'id': '10003', 'name': 'Dora Chen', 'gender': 'female'}\n"
     ]
    }
   ],
   "source": [
    "#成员函数\n",
    "dora = {'id':'10003','name':'Dora Chen','gender':'female','age':32,'title':'sales'}\n",
    "doraCopy = dora.copy()\n",
    "doraCopy.clear()\n",
    "print(dora,doraCopy)\n",
    "\n",
    "d=dict.fromkeys(['id','name','age'],'NOTKNOWN')\n",
    "print(d)\n",
    "d={}.fromkeys(['id','name','age'],'NOTKNOWN')\n",
    "print(d)\n",
    "\n",
    "print('id:',dora.get('id'))\n",
    "print('name:',dora.get('name'))\n",
    "print('salary:',dora.get('salary',3000))   #当字典中没有对应值时，返回默认值\n",
    "\n",
    "sTitle = dora.pop('title')\n",
    "print(sTitle,dora)\n",
    "a = dora.popitem()  #弹出随机一个\n",
    "print(a,dora)"
   ],
   "metadata": {
    "collapsed": false,
    "pycharm": {
     "name": "#%%\n"
    }
   }
  },
  {
   "cell_type": "code",
   "execution_count": 25,
   "outputs": [
    {
     "name": "stdout",
     "output_type": "stream",
     "text": [
      "id\n",
      "name\n",
      "gender\n",
      "age\n",
      "title\n",
      "id\n",
      "name\n",
      "gender\n",
      "age\n",
      "title\n",
      "10003\n",
      "Dora Chen\n",
      "female\n",
      "32\n",
      "sales\n",
      "10003\n",
      "Dora Chen\n",
      "female\n",
      "32\n",
      "sales\n",
      "(' id ',' 10003 ')\n",
      "(' name ',' Dora Chen ')\n",
      "(' gender ',' female ')\n",
      "(' age ',' 32 ')\n",
      "(' title ',' sales ')\n",
      "('id', '10003')\n",
      "('name', 'Dora Chen')\n",
      "('gender', 'female')\n",
      "('age', 32)\n",
      "('title', 'sales')\n",
      "id _ 10003\n",
      "name _ Dora Chen\n",
      "gender _ female\n",
      "age _ 32\n",
      "title _ sales\n"
     ]
    }
   ],
   "source": [
    "#字典的遍历\n",
    "dora = {'id':'10003','name':'Dora Chen','gender':'female','age':32,'title':'sales'}\n",
    "for x in dora:   #遍历键\n",
    "    print(x)\n",
    "for x in dora.keys():\n",
    "    print(x)\n",
    "\n",
    "for x in dora:   #遍历值\n",
    "    print(dora[x])\n",
    "for x in dora.values():\n",
    "    print(x)\n",
    "\n",
    "for x in dora:   #遍历项\n",
    "    print(\"('\",x,\"','\",dora[x],\"')\")\n",
    "for x in dora.items():\n",
    "    print(x)\n",
    "\n",
    "for k,v in dora.items():   #循环解包\n",
    "    print(k,'_',v)"
   ],
   "metadata": {
    "collapsed": false,
    "pycharm": {
     "name": "#%%\n"
    }
   }
  }
 ],
 "metadata": {
  "kernelspec": {
   "display_name": "Python 3",
   "language": "python",
   "name": "python3"
  },
  "language_info": {
   "codemirror_mode": {
    "name": "ipython",
    "version": 2
   },
   "file_extension": ".py",
   "mimetype": "text/x-python",
   "name": "python",
   "nbconvert_exporter": "python",
   "pygments_lexer": "ipython2",
   "version": "2.7.6"
  }
 },
 "nbformat": 4,
 "nbformat_minor": 0
}