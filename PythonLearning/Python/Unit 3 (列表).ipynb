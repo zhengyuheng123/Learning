{
 "cells": [
  {
   "cell_type": "code",
   "execution_count": 5,
   "metadata": {
    "collapsed": true
   },
   "outputs": [
    {
     "name": "stdout",
     "output_type": "stream",
     "text": [
      "<class 'list'>\n",
      "12\n",
      "1月 4月\n",
      "12月\n"
     ]
    }
   ],
   "source": [
    "#元素的读取\n",
    "months = ['1月','2月','3月','4月','5月','6月','7月',\n",
    "          '8月','9月','10月','11月','12月']  #12个元素\n",
    "print(type(months))\n",
    "print(len(months))\n",
    "print(months[0],months[3])   #对列表内的数据进行读取\n",
    "print(months[-1])    #倒数第一个"
   ]
  },
  {
   "cell_type": "code",
   "execution_count": 9,
   "outputs": [
    {
     "name": "stdout",
     "output_type": "stream",
     "text": [
      "3月 四月\n",
      "['1月', '2月', '3月', '四月', '5月', '6月', '7月', '8月', '9月', '10月', '11月', '12月']\n"
     ]
    }
   ],
   "source": [
    "#元素的修改\n",
    "months = ['1月','2月','3月','4月','5月','6月','7月',\n",
    "          '8月','9月','10月','11月','12月']\n",
    "months[3] = '四月'\n",
    "print(months[2],months[3])\n",
    "print(months)"
   ],
   "metadata": {
    "collapsed": false,
    "pycharm": {
     "name": "#%%\n"
    }
   }
  },
  {
   "cell_type": "code",
   "execution_count": 11,
   "outputs": [
    {
     "name": "stdout",
     "output_type": "stream",
     "text": [
      "['10000', 'Jack Ma', 47, 'CEO']\n",
      "['10000', 'Jack Ma', 'male', 47, 'CEO']\n"
     ]
    }
   ],
   "source": [
    "#元素的增加\n",
    "jack = ['10000','Jack Ma',47]\n",
    "jack.append(\"CEO\")    #在末尾增加元素\n",
    "print(jack)\n",
    "jack.insert(2,'male')   #在2号位增加元素，后续依次往后挪\n",
    "print(jack)"
   ],
   "metadata": {
    "collapsed": false,
    "pycharm": {
     "name": "#%%\n"
    }
   }
  },
  {
   "cell_type": "code",
   "execution_count": 13,
   "outputs": [
    {
     "name": "stdout",
     "output_type": "stream",
     "text": [
      "['10000', 'Jack Ma', 47, 'CEO']\n",
      "['10000', 'Jack Ma', 47]\n",
      "CEO\n"
     ]
    }
   ],
   "source": [
    "#元素的删除\n",
    "jack = ['10000','Jack Ma','male',47,'CEO']\n",
    "del jack[2]   #删除2号位元素\n",
    "print(jack)\n",
    "\n",
    "sTitle = jack.pop()   #弹出最后一个元素,并赋值\n",
    "print(jack)\n",
    "print(sTitle)"
   ],
   "metadata": {
    "collapsed": false,
    "pycharm": {
     "name": "#%%\n"
    }
   }
  },
  {
   "cell_type": "code",
   "execution_count": 14,
   "outputs": [
    {
     "name": "stdout",
     "output_type": "stream",
     "text": [
      "['10002', 'Tom Henry', 'male', 28, 'Engineer']\n",
      "Tom Henry\n"
     ]
    }
   ],
   "source": [
    "#列表的嵌套\n",
    "jack = ['10000','Jack Ma','male',47,'CEO']\n",
    "mary = ['10001','Mary Lee','female',25,'Secretary']\n",
    "tom = ['10002','Tom Henry','male',28,'Engineer']\n",
    "dora = ['10003','Dora Chen','female',32,'Sales']\n",
    "\n",
    "employees = [jack,mary,tom]\n",
    "employees.append(dora)\n",
    "print(employees[2])\n",
    "print(employees[2][1])"
   ],
   "metadata": {
    "collapsed": false,
    "pycharm": {
     "name": "#%%\n"
    }
   }
  },
  {
   "cell_type": "code",
   "execution_count": 16,
   "outputs": [
    {
     "name": "stdout",
     "output_type": "stream",
     "text": [
      "['10000', 'Tom Henry', 'male', 47, 'CEO']\n",
      "['10000', 'Tom Henry', 'male', 47, 'CEO']\n"
     ]
    }
   ],
   "source": [
    "#名字绑定\n",
    "person1 = ['10000','Jack Ma','male',47,'CEO']\n",
    "person2 = person1\n",
    "person2[1] = 'Tom Henry'\n",
    "print(person1)\n",
    "print(person2)"
   ],
   "metadata": {
    "collapsed": false,
    "pycharm": {
     "name": "#%%\n"
    }
   }
  },
  {
   "cell_type": "code",
   "execution_count": 18,
   "outputs": [
    {
     "name": "stdout",
     "output_type": "stream",
     "text": [
      "['dorothy', 'jack', 'mary', 'tom']\n",
      "['tom', 'jack', 'mary', 'dorothy']\n",
      "[93, 82, 77, 66, 66, 24, 15, 8]\n",
      "[8, 15, 24, 66, 66, 77, 82, 93]\n"
     ]
    }
   ],
   "source": [
    "#元素的排序\n",
    "names = ['jack','mary','tom','dorothy']\n",
    "names.sort()  #按字母顺序排序\n",
    "print(names)\n",
    "names.sort(key=len)   #按从短到长排序\n",
    "print(names)\n",
    "\n",
    "scores = [82,66,66,93,24,15,77,8]\n",
    "scores.sort(reverse=True)   #从大到小\n",
    "print(scores)\n",
    "scores.sort(reverse=False)  #从小到大\n",
    "print(scores)"
   ],
   "metadata": {
    "collapsed": false,
    "pycharm": {
     "name": "#%%\n"
    }
   }
  },
  {
   "cell_type": "code",
   "execution_count": 19,
   "outputs": [
    {
     "name": "stdout",
     "output_type": "stream",
     "text": [
      "['jack', 'mary', 'tom', 'dorothy']\n",
      "['dorothy', 'jack', 'mary', 'tom']\n"
     ]
    }
   ],
   "source": [
    "#不改变原列表排序\n",
    "names = ['jack','mary','tom','dorothy']\n",
    "namesSorted = sorted(names)    #不改变元列表排序\n",
    "print(names)\n",
    "print(namesSorted)"
   ],
   "metadata": {
    "collapsed": false,
    "pycharm": {
     "name": "#%%\n"
    }
   }
  },
  {
   "cell_type": "code",
   "execution_count": 20,
   "outputs": [
    {
     "name": "stdout",
     "output_type": "stream",
     "text": [
      "['dorothy', 'tom', 'mary', 'jack']\n"
     ]
    }
   ],
   "source": [
    "#列表逆序排列\n",
    "names = ['jack','mary','tom','dorothy']\n",
    "names.reverse()\n",
    "print(names)"
   ],
   "metadata": {
    "collapsed": false,
    "pycharm": {
     "name": "#%%\n"
    }
   }
  },
  {
   "cell_type": "code",
   "execution_count": 1,
   "outputs": [
    {
     "name": "stdout",
     "output_type": "stream",
     "text": [
      "jack <class 'str'>\n",
      "5 <class 'int'>\n",
      "False <class 'bool'>\n",
      "3.1415926 <class 'float'>\n",
      "mary <class 'str'>\n",
      "['A', 'B'] <class 'list'>\n"
     ]
    }
   ],
   "source": [
    "#for循环遍历\n",
    "dummy = ['jack',5,False,3.1415926,'mary',['A','B']]\n",
    "for x in dummy:\n",
    "    print(x,type(x))"
   ],
   "metadata": {
    "collapsed": false,
    "pycharm": {
     "name": "#%%\n"
    }
   }
  },
  {
   "cell_type": "code",
   "execution_count": 8,
   "outputs": [
    {
     "name": "stdout",
     "output_type": "stream",
     "text": [
      "0\n",
      "1\n",
      "2\n",
      "3\n",
      "4\n",
      "2\n",
      "3\n",
      "4\n",
      "2\n",
      "range(0, 5)\n",
      "<class 'range'>\n",
      "0\n",
      "1\n",
      "2\n",
      "3\n",
      "4\n",
      "[0, 1, 2, 3, 4] <class 'list'>\n",
      "[0, 4, 8, 12, 16]\n",
      "[9, 7, 5, 3]\n"
     ]
    }
   ],
   "source": [
    "#数值列表\n",
    "for i in range(5):   #可以认为是[0,1,2,3,4]\n",
    "    print(i)\n",
    "for i in range(2,5):   #可以认为是[2,3,4]\n",
    "    print(i)\n",
    "\n",
    "x = range(5)\n",
    "print(x[2])\n",
    "print(x)\n",
    "print(type(x))\n",
    "\n",
    "for i in x:\n",
    "    print(i)\n",
    "\n",
    "x=list(x)\n",
    "print(x,type(x))   #将range转换为list\n",
    "\n",
    "fours = list(range(0,17,4))   #从0到17(不含17)，间距为4\n",
    "print(fours)\n",
    "\n",
    "numbers = list(range(9,2,-2))\n",
    "print(numbers)"
   ],
   "metadata": {
    "collapsed": false,
    "pycharm": {
     "name": "#%%\n"
    }
   }
  },
  {
   "cell_type": "code",
   "execution_count": 9,
   "outputs": [
    {
     "name": "stdout",
     "output_type": "stream",
     "text": [
      "98\n",
      "23\n",
      "402\n",
      "average 67.0\n"
     ]
    }
   ],
   "source": [
    "#列表统计\n",
    "scores = [23,76,98,82,56,67]\n",
    "print(max(scores))\n",
    "print(min(scores))\n",
    "print(sum(scores))\n",
    "print(\"average:\",sum(scores)/len(scores))"
   ],
   "metadata": {
    "collapsed": false,
    "pycharm": {
     "name": "#%%\n"
    }
   }
  },
  {
   "cell_type": "code",
   "execution_count": 6,
   "outputs": [
    {
     "name": "stdout",
     "output_type": "stream",
     "text": [
      "[101, 108, 127, 164, 225, 316, 443, 612, 829, 1100]\n",
      "[[0, 0, 0, 0, 0, 0, 0, 0], [0, 0, 0, 0, 0, 0, 0, 0], [0, 0, 0, 0, 0, 0, 0, 0], [0, 0, 0, 0, 0, 0, 0, 0], [0, 0, 0, 0, 0, 0, 0, 0], [0, 0, 0, 0, 0, 0, 0, 0], [0, 0, 0, 0, 0, 0, 0, 0], [0, 0, 0, 0, 0, 0, 0, 0], [0, 0, 0, 0, 0, 0, 0, 0], [0, 0, 0, 0, 0, 0, 0, 0]]\n",
      "[0, 0, 0, 0, 0, 0, 0, 0]\n",
      "[[0, 0, 0, 0, 0, 0, 0, 0], [0, 1, 2, 3, 4, 5, 6, 7], [0, 2, 4, 6, 8, 10, 12, 14], [0, 3, 6, 9, 12, 15, 18, 21], [0, 4, 8, 12, 16, 20, 24, 28], [0, 5, 10, 15, 20, 25, 30, 35], [0, 6, 12, 18, 24, 30, 36, 42], [0, 7, 14, 21, 28, 35, 42, 49], [0, 8, 16, 24, 32, 40, 48, 56], [0, 9, 18, 27, 36, 45, 54, 63]]\n",
      "[0, 9, 36, 81]\n",
      "['a0', 'a1', 'a2', 'a3', 'b0', 'b1', 'b2', 'b3', 'c0', 'c1', 'c2', 'c3']\n",
      "['a0', 'a1', 'a2', 'a3', 'b0', 'b1', 'b2', 'b3', 'c0', 'c1', 'c2', 'c3']\n"
     ]
    }
   ],
   "source": [
    "#列表的快速生成\n",
    "cubes = [x**3+100 for x in range(1,11)]\n",
    "print(cubes)\n",
    "\n",
    "matrix = [[0]*8]*10   #8列10行\n",
    "print(matrix)\n",
    "\n",
    "print([0]*8)\n",
    "\n",
    "matrix = [[r*c for c in range(8)] for r in range(10)]\n",
    "print(matrix)\n",
    "\n",
    "values = [x*x for x in range(10) if x%3==0]\n",
    "print(values)\n",
    "\n",
    "values = [x+y for x in 'abc' for y in '0123']\n",
    "print(values)\n",
    "\n",
    "values = []\n",
    "for x in 'abc':\n",
    "    for y in '0123':\n",
    "        values.append(x+y)\n",
    "print(values)"
   ],
   "metadata": {
    "collapsed": false,
    "pycharm": {
     "name": "#%%\n"
    }
   }
  },
  {
   "cell_type": "code",
   "execution_count": 9,
   "outputs": [
    {
     "name": "stdout",
     "output_type": "stream",
     "text": [
      "['Python', 'Ruby', 'R', 'C', 'C++', 'Pascal']\n",
      "[1, 2, 3, 1, 2, 3]\n",
      "PythonPythonPythonPythonPython\n"
     ]
    }
   ],
   "source": [
    "#列表的运算\n",
    "lans = ['C','C++','Pascal']\n",
    "print(['Python','Ruby','R']+lans)\n",
    "\n",
    "print([1,2,3]*2)\n",
    "print('Python'*5)"
   ],
   "metadata": {
    "collapsed": false,
    "pycharm": {
     "name": "#%%\n"
    }
   }
  },
  {
   "cell_type": "code",
   "execution_count": 12,
   "outputs": [
    {
     "name": "stdout",
     "output_type": "stream",
     "text": [
      "False\n",
      "True\n",
      "False\n"
     ]
    }
   ],
   "source": [
    "#检查序列是否包含指定值\n",
    "print('a' in 'string')\n",
    "print('str' in 'string')\n",
    "print('bob' not in ['bob','mary','tom'])"
   ],
   "metadata": {
    "collapsed": false,
    "pycharm": {
     "name": "#%%\n"
    }
   }
  },
  {
   "cell_type": "code",
   "execution_count": 16,
   "outputs": [
    {
     "name": "stdout",
     "output_type": "stream",
     "text": [
      "3\n",
      "[]\n",
      "1\n"
     ]
    }
   ],
   "source": [
    "#成员函数\n",
    "dummy = ['bob','henry','mary','bob','bob']\n",
    "print('%d'%(dummy.count('bob')))\n",
    "dummy.clear()\n",
    "print(dummy)\n",
    "dummy.append('bob')\n",
    "dummy.extend(['henry','mary'])\n",
    "print(dummy.index('henry'))\n",
    "dummy.remove('henry')"
   ],
   "metadata": {
    "collapsed": false,
    "pycharm": {
     "name": "#%%\n"
    }
   }
  },
  {
   "cell_type": "code",
   "execution_count": 22,
   "outputs": [
    {
     "name": "stdout",
     "output_type": "stream",
     "text": [
      "[1, 2, 3] 3056031916936 140719259951520 140719259951552 140719259951584\n",
      "[1, 2, 5] 3056031624136 140719259951520 140719259951552 140719259951648\n"
     ]
    }
   ],
   "source": [
    "#列表的复制\n",
    "a = [1,2,3]\n",
    "b = a.copy()\n",
    "b[2]=5\n",
    "print(a,id(a),id(a[0]),id(a[1]),id(a[2]))\n",
    "print(b,id(b),id(b[0]),id(b[1]),id(b[2]))"
   ],
   "metadata": {
    "collapsed": false,
    "pycharm": {
     "name": "#%%\n"
    }
   }
  },
  {
   "cell_type": "code",
   "execution_count": 10,
   "outputs": [
    {
     "name": "stdout",
     "output_type": "stream",
     "text": [
      "[0, 1, 2, 3, 4, 5, 6, 7, 8, 9]\n",
      "numbers[3:9]: [3, 4, 5, 6, 7, 8]\n",
      "numbers[3:]: [3, 4, 5, 6, 7, 8, 9]\n",
      "numbers[:9]: [0, 1, 2, 3, 4, 5, 6, 7, 8]\n",
      "numbers[-6:-1]: [4, 5, 6, 7, 8]\n",
      "numbers[1:9:2]: [1, 3, 5, 7]\n",
      "numbers[-1:1:-2]: [9, 7, 5, 3]\n",
      "numbers[7::-2]: [7, 5, 3, 1]\n",
      "2602164053384 2602151839944\n",
      "[9, 8, 7, 6, 5, 4, 3, 2, 1, 0]\n",
      "[0, 1, 2, 77, 88, 5, 6, 7, 8, 9]\n",
      "234\n",
      "1357\n",
      "975\n"
     ]
    }
   ],
   "source": [
    "#切片\n",
    "numbers = [x for x in range(10)]\n",
    "print(numbers)\n",
    "print('numbers[3:9]:',numbers[3:9])   #表示取下表3到9(不含9)\n",
    "print('numbers[3:]:',numbers[3:])\n",
    "print('numbers[:9]:',numbers[:9])\n",
    "print('numbers[-6:-1]:',numbers[-6:-1])\n",
    "print('numbers[1:9:2]:',numbers[1:9:2])\n",
    "print('numbers[-1:1:-2]:',numbers[-1:1:-2])\n",
    "print('numbers[7::-2]:',numbers[7::-2])\n",
    "\n",
    "numbersCopy = numbers[:]     #切片也可以用于列表复制\n",
    "print(id(numbersCopy),id(numbers))\n",
    "\n",
    "numbersReversed = numbers[::-1]   #切片也可以用于列表倒序\n",
    "print(numbersReversed)\n",
    "\n",
    "numbers[3:5] = 77,88\n",
    "print(numbers)\n",
    "\n",
    "numbers = '0123456789'  #切片也可用于字符串\n",
    "print(numbers[2:5])\n",
    "print(numbers[1:9:2])\n",
    "print(numbers[:3:-2])"
   ],
   "metadata": {
    "collapsed": false,
    "pycharm": {
     "name": "#%%\n"
    }
   }
  },
  {
   "cell_type": "code",
   "execution_count": 4,
   "outputs": [
    {
     "name": "stdout",
     "output_type": "stream",
     "text": [
      "2+3\n",
      "5\n"
     ]
    }
   ],
   "source": [
    "#eval函数\n",
    "a = \"2+3\"\n",
    "print(a)\n",
    "b = eval(a)\n",
    "print(b)"
   ],
   "metadata": {
    "collapsed": false,
    "pycharm": {
     "name": "#%%\n"
    }
   }
  }
 ],
 "metadata": {
  "kernelspec": {
   "display_name": "Python 3",
   "language": "python",
   "name": "python3"
  },
  "language_info": {
   "codemirror_mode": {
    "name": "ipython",
    "version": 2
   },
   "file_extension": ".py",
   "mimetype": "text/x-python",
   "name": "python",
   "nbconvert_exporter": "python",
   "pygments_lexer": "ipython2",
   "version": "2.7.6"
  }
 },
 "nbformat": 4,
 "nbformat_minor": 0
}