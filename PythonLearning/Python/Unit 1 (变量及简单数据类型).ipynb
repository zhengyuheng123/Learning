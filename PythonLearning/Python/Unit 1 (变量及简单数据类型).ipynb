{
 "cells": [
  {
   "cell_type": "code",
   "execution_count": 1,
   "metadata": {
    "collapsed": true
   },
   "outputs": [
    {
     "name": "stdout",
     "output_type": "stream",
     "text": [
      "How beautiful my life is.\n"
     ]
    }
   ],
   "source": [
    "#输出语句\n",
    "print (\"How beautiful my life is.\")"
   ]
  },
  {
   "cell_type": "code",
   "execution_count": 5,
   "outputs": [
    {
     "name": "stdout",
     "output_type": "stream",
     "text": [
      "我买了 3 斤苹果，每斤3.6元，一共花了 10.8 元。 妈妈给了我20元，还剩下 9.2 元。\n"
     ]
    }
   ],
   "source": [
    "#变量定义(fPrice：f表示浮点型；Price表示名称)\n",
    "n = 3\n",
    "fPrice = 3.6\n",
    "fAmount = n * fPrice\n",
    "fMoney = 20\n",
    "fMoney = fMoney - fAmount\n",
    "sText= \"我买了\"\n",
    "print (sText,n,\"斤苹果，每斤3.6元，一共花了\",fAmount,\"元。\",\"妈妈给了我20元，还剩下\",fMoney,\"元。\")"
   ],
   "metadata": {
    "collapsed": false,
    "pycharm": {
     "name": "#%%\n"
    }
   }
  },
  {
   "cell_type": "code",
   "execution_count": 14,
   "outputs": [
    {
     "name": "stdout",
     "output_type": "stream",
     "text": [
      "3 <class 'int'>\n",
      "3.1415926 <class 'float'>\n",
      "3141592600.0\n",
      "How beautiful my life is. <class 'str'>\n",
      "False <class 'bool'>\n"
     ]
    }
   ],
   "source": [
    "#数据类型\n",
    "n = 3\n",
    "print (n,type(n))\n",
    "f = 3.1415926\n",
    "print (f,type(f))\n",
    "f = f *1000000000\n",
    "print (f)\n",
    "s = \"How beautiful my life is.\"\n",
    "print (s,type(s))\n",
    "b = 3 < 2\n",
    "print (b,type(b))"
   ],
   "metadata": {
    "collapsed": false,
    "pycharm": {
     "name": "#%%\n"
    }
   }
  },
  {
   "cell_type": "code",
   "execution_count": 2,
   "outputs": [
    {
     "name": "stdout",
     "output_type": "stream",
     "text": [
      "1.5 <class 'float'>\n",
      "2.0 <class 'float'>\n"
     ]
    }
   ],
   "source": [
    "#运算\n",
    "#整数同另外一个整数进行“+，-，*”运算，结果是整数。\n",
    "#整数同另外一个整数进行“/”运算，结果是浮点数。\n",
    "a = 3\n",
    "b = 2\n",
    "a = a / b\n",
    "print(a,type(a))\n",
    "a = 4\n",
    "a = a / b\n",
    "print(a,type(a))"
   ],
   "metadata": {
    "collapsed": false,
    "pycharm": {
     "name": "#%%\n"
    }
   }
  },
  {
   "cell_type": "code",
   "execution_count": 8,
   "outputs": [
    {
     "name": "stdout",
     "output_type": "stream",
     "text": [
      "1\n",
      "3\n",
      "True\n",
      "120 3.1415926\n",
      "s1+s2: 1203.1415926\n",
      "i+f: 123.1415926\n"
     ]
    }
   ],
   "source": [
    "#强制类型转换\n",
    "print(int(True))\n",
    "print(int(3.14))\n",
    "print(bool(-5))\n",
    "\n",
    "s1 = \"120\"\n",
    "s2 = \"3.1415926\"\n",
    "i=int(s1)\n",
    "f=float(s2)\n",
    "print(i,f)\n",
    "print(\"s1+s2:\",s1+s2)\n",
    "print(\"i+f:\",i+f)"
   ],
   "metadata": {
    "collapsed": false,
    "pycharm": {
     "name": "#%%\n"
    }
   }
  },
  {
   "cell_type": "code",
   "execution_count": 3,
   "outputs": [
    {
     "name": "stdout",
     "output_type": "stream",
     "text": [
      "'Python is good'\n",
      "\"Python is good\"\n",
      "\"Python is good\"\n",
      "\\Python is good\\\n"
     ]
    }
   ],
   "source": [
    "#字符串\n",
    "print(\"'Python is good!'\")\n",
    "print('\"Python is good!\"')\n",
    "print(\"\\\"Python is good!\\\"\")\n",
    "print(\"\\\\Python is good!\\\\\")"
   ],
   "metadata": {
    "collapsed": false,
    "pycharm": {
     "name": "#%%\n"
    }
   }
  },
  {
   "cell_type": "code",
   "execution_count": 5,
   "outputs": [
    {
     "name": "stdout",
     "output_type": "stream",
     "text": [
      "Alan Turing\n",
      "ALAN TURING\n",
      "alan turing\n",
      "aLAn tuRiNg\n"
     ]
    }
   ],
   "source": [
    "#大小写转换\n",
    "#.title是str的成员函数\n",
    "#成员函数不改变变量里的值\n",
    "sName = \"aLAn tuRiNg\"\n",
    "print (sName.title())\n",
    "print (sName.upper())\n",
    "print (sName.lower())\n",
    "print (sName)"
   ],
   "metadata": {
    "collapsed": false,
    "pycharm": {
     "name": "#%%\n"
    }
   }
  },
  {
   "cell_type": "code",
   "execution_count": 7,
   "outputs": [
    {
     "name": "stdout",
     "output_type": "stream",
     "text": [
      "Output:     Python is good END\n",
      "Output: Python is good     END\n",
      "Output: Python is good END\n"
     ]
    }
   ],
   "source": [
    "#去除空格\n",
    "sText = \"    Python is good!    \"\n",
    "print(\"Output:\",sText.rstrip(),\"END\")\n",
    "print(\"Output:\",sText.lstrip(),\"END\")\n",
    "print(\"Output:\",sText.strip(),\"END\")"
   ],
   "metadata": {
    "collapsed": false,
    "pycharm": {
     "name": "#%%\n"
    }
   }
  }
 ],
 "metadata": {
  "kernelspec": {
   "display_name": "Python 3",
   "language": "python",
   "name": "python3"
  },
  "language_info": {
   "codemirror_mode": {
    "name": "ipython",
    "version": 2
   },
   "file_extension": ".py",
   "mimetype": "text/x-python",
   "name": "python",
   "nbconvert_exporter": "python",
   "pygments_lexer": "ipython2",
   "version": "2.7.6"
  }
 },
 "nbformat": 4,
 "nbformat_minor": 0
}