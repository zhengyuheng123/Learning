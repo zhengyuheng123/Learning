{
 "cells": [
  {
   "cell_type": "code",
   "execution_count": 1,
   "metadata": {
    "collapsed": true
   },
   "outputs": [
    {
     "name": "stdout",
     "output_type": "stream",
     "text": [
      "('2012011', 'Eric Zhang', 'male', 77, True, (67, 22, 78)) <class 'tuple'>\n",
      "6\n",
      "('Eric Zhang', 'male', 77)\n",
      "1\n",
      "True\n",
      "5\n",
      "(1, 2, 2, 3, 4)\n",
      "(1, 2, 1, 2, 1, 2, 1, 2, 1, 2)\n"
     ]
    }
   ],
   "source": [
    "#元组——只读的列表\n",
    "import copy\n",
    "\n",
    "patient = ('2012011','Eric Zhang','male',77,True,(67,22,78))\n",
    "print(patient,type(patient))\n",
    "print(len(patient))\n",
    "print(patient[1:4])\n",
    "print(patient.count(True))\n",
    "print(True in patient)\n",
    "print(max((1,3,5)))\n",
    "print((1,2)+(2,3)+(4,))\n",
    "print((1,2)*5)"
   ]
  },
  {
   "cell_type": "code",
   "execution_count": 2,
   "outputs": [
    {
     "name": "stdout",
     "output_type": "stream",
     "text": [
      "<class 'list'>\n",
      "<class 'generator'>\n",
      "<class 'tuple'>\n"
     ]
    }
   ],
   "source": [
    "#快速生成元组\n",
    "a = [x for x in range(10)]\n",
    "print(type(a))\n",
    "b = (x for x in range(10))\n",
    "print(type(b))\n",
    "c = tuple(x for x in range(10))\n",
    "print(type(c))"
   ],
   "metadata": {
    "collapsed": false,
    "pycharm": {
     "name": "#%%\n"
    }
   }
  },
  {
   "cell_type": "code",
   "execution_count": 10,
   "outputs": [
    {
     "name": "stdout",
     "output_type": "stream",
     "text": [
      "{'USA', 'France', 'China', 'Japan'} <class 'set'>\n",
      "<class 'dict'>\n",
      "<class 'set'>\n",
      "{'e', 'l', 'o', 'H'}\n",
      "{1, 2, 3, 6, 7}\n"
     ]
    }
   ],
   "source": [
    "#集合(只能放不可哈希类型，只读的)\n",
    "countries = {\"China\",\"USA\",\"Japan\",\"France\"}\n",
    "print(countries,type(countries))\n",
    "d1 = {}\n",
    "d2 = set(d1)\n",
    "print(type(d1))\n",
    "print(type(d2))\n",
    "s1 = set(\"Hello\")\n",
    "print(s1)\n",
    "s2 = set([1,3,1,2,7,6])\n",
    "print(s2)\n",
    "#列表、集合、字典是不可哈希类型，其余为可哈希类型"
   ],
   "metadata": {
    "collapsed": false,
    "pycharm": {
     "name": "#%%\n"
    }
   }
  },
  {
   "cell_type": "code",
   "execution_count": 12,
   "outputs": [
    {
     "name": "stdout",
     "output_type": "stream",
     "text": [
      "{'Italy', 'France', 'China', 'Japan', 'USA'}\n",
      "{'Italy', 'China', 'Japan', 'USA'}\n"
     ]
    }
   ],
   "source": [
    "#集合元素的增减\n",
    "countries = {\"China\",\"USA\",\"Japan\",\"France\"}\n",
    "countries.add(\"Italy\")\n",
    "print(countries)\n",
    "countries.remove(\"France\")\n",
    "print(countries)"
   ],
   "metadata": {
    "collapsed": false,
    "pycharm": {
     "name": "#%%\n"
    }
   }
  },
  {
   "cell_type": "code",
   "execution_count": 22,
   "outputs": [
    {
     "name": "stdout",
     "output_type": "stream",
     "text": [
      "<class 'set'>\n",
      "True\n",
      "True\n"
     ]
    }
   ],
   "source": [
    "#子集、超集\n",
    "s1 = {'A','B','C','D'}\n",
    "s2 = {'A','D','C'}\n",
    "print(s2.issubset(s1))      #判断s2是否是s1的子集\n",
    "print(s1.issuperset(s2))     #判断S1是否是S2的超集"
   ],
   "metadata": {
    "collapsed": false,
    "pycharm": {
     "name": "#%%\n"
    }
   }
  },
  {
   "cell_type": "code",
   "execution_count": 28,
   "outputs": [
    {
     "name": "stdout",
     "output_type": "stream",
     "text": [
      "{3, 4}\n",
      "{1, 2, 3, 4, 5, 6}\n",
      "{1, 2}\n",
      "{1, 2, 5, 6}\n"
     ]
    }
   ],
   "source": [
    "#集合交并补\n",
    "s1 = {1,2,3,4}\n",
    "s2 = {3,4,5,6}\n",
    "print(s1 & s2)   #交集\n",
    "print(s1 | s2)   #并集\n",
    "print(s1 - s2)   #差集\n",
    "print(s1 ^ s2)   #补集"
   ],
   "metadata": {
    "collapsed": false,
    "pycharm": {
     "name": "#%%\n"
    }
   }
  },
  {
   "cell_type": "code",
   "execution_count": 38,
   "outputs": [
    {
     "name": "stdout",
     "output_type": "stream",
     "text": [
      "b'abcdefghijk' <class 'bytes'> 11\n",
      "b'cegi'\n",
      "b'\\x11\\xff\\x97' 3\n"
     ]
    }
   ],
   "source": [
    "#字节串(不可修改)\n",
    "buffer = b'abcdefghijk'   #11字节\n",
    "print(buffer,type(buffer),len(buffer))\n",
    "print(buffer[2:9:2])\n",
    "\n",
    "buffer = b'\\x11\\xff\\x97'  #3字节\n",
    "print(buffer,len(buffer))"
   ],
   "metadata": {
    "collapsed": false,
    "pycharm": {
     "name": "#%%\n"
    }
   }
  },
  {
   "cell_type": "code",
   "execution_count": 1,
   "outputs": [
    {
     "name": "stdout",
     "output_type": "stream",
     "text": [
      "65279\n",
      "65534\n"
     ]
    }
   ],
   "source": [
    "#大小端\n",
    "y = int.from_bytes(b'\\xfe\\xff','big')   #0xfeff\n",
    "print(y)\n",
    "y = int.from_bytes(b'\\xfe\\xff','little')   #0xfffe\n",
    "print(y)"
   ],
   "metadata": {
    "collapsed": false,
    "pycharm": {
     "name": "#%%\n"
    }
   }
  },
  {
   "cell_type": "code",
   "execution_count": 5,
   "outputs": [
    {
     "name": "stdout",
     "output_type": "stream",
     "text": [
      "bytearray(b'\\x00\\x00\\x00\\x00\\x00\\x00\\x00\\x00\\x00\\x00') <class 'bytearray'>\n",
      "bytearray(b'\\x00\\x00M\\x00\\x00\\x00\\x00\\x00\\x00\\x00')\n"
     ]
    }
   ],
   "source": [
    "#字节数组(可修改)\n",
    "buffer = bytearray(0x00 for x in range(10))\n",
    "print(buffer,type(buffer))\n",
    "buffer[2] = 77\n",
    "print(buffer)"
   ],
   "metadata": {
    "collapsed": false,
    "pycharm": {
     "name": "#%%\n"
    }
   }
  },
  {
   "cell_type": "code",
   "execution_count": 9,
   "outputs": [
    {
     "name": "stdout",
     "output_type": "stream",
     "text": [
      "x= 0b10101010\n",
      "x & 0x7f= 0b101010\n",
      "x | 0x77= 0b11111111\n",
      "y= 0xff00\n"
     ]
    }
   ],
   "source": [
    "x = 0xaa\n",
    "print(\"x=\",bin(x))\n",
    "print(\"x & 0x7f=\",bin(x & 0x7f))\n",
    "print(\"x | 0x77=\",bin(x | 0x77))\n",
    "y = 0x00ff\n",
    "y = y << 8\n",
    "print(\"y=\",hex(y))"
   ],
   "metadata": {
    "collapsed": false,
    "pycharm": {
     "name": "#%%\n"
    }
   }
  },
  {
   "cell_type": "code",
   "execution_count": 21,
   "outputs": [
    {
     "name": "stdout",
     "output_type": "stream",
     "text": [
      "a==b\n",
      "a is not b\n"
     ]
    }
   ],
   "source": [
    "#判断\n",
    "a = 3\n",
    "b = 3.0\n",
    "if a==b:     #判断其值是否相等\n",
    "    print(\"a==b\")\n",
    "\n",
    "if a is b:    #判断其绑定对象是否是同一个\n",
    "    print(\"a is b\")\n",
    "else:\n",
    "    print(\"a is not b\")"
   ],
   "metadata": {
    "collapsed": false,
    "pycharm": {
     "name": "#%%\n"
    }
   }
  },
  {
   "cell_type": "code",
   "execution_count": 20,
   "outputs": [
    {
     "name": "stdout",
     "output_type": "stream",
     "text": [
      "2239752322248 140719294816800 2239751919816 [1, 2, 5]\n",
      "2239752305608 140719294816800 2239751919816 [1, 2, 5]\n",
      "2239752320008 140719294816800 2239751919816 [1, 2, 5]\n",
      "2239752322056 140719294816800 2239751919816 [1, 2, 5]\n",
      "2239751579208 140719294816800 2239751543752 [1, 2, 3]\n"
     ]
    }
   ],
   "source": [
    "#数据类型与名字绑定\n",
    "import copy\n",
    "numbers = [0,1,2,3,4,5,6,[1,2,3]]\n",
    "numbersCopy1 = numbers.copy()\n",
    "numbersCopy2 = numbers[:]\n",
    "numbersCopy3 = copy.copy(numbers)\n",
    "numbersCopy4 = copy.deepcopy(numbers)\n",
    "numbers[7][2] = 5\n",
    "print(id(numbers),id(numbers[5]),id(numbers[7]),numbers[7])\n",
    "print(id(numbersCopy1),id(numbersCopy1[5]),id(numbersCopy1[7]),numbersCopy1[7])\n",
    "print(id(numbersCopy2),id(numbersCopy2[5]),id(numbersCopy2[7]),numbersCopy2[7])\n",
    "print(id(numbersCopy3),id(numbersCopy3[5]),id(numbersCopy3[7]),numbersCopy3[7])\n",
    "print(id(numbersCopy4),id(numbersCopy4[5]),id(numbersCopy4[7]),numbersCopy4[7])"
   ],
   "metadata": {
    "collapsed": false,
    "pycharm": {
     "name": "#%%\n"
    }
   }
  }
 ],
 "metadata": {
  "kernelspec": {
   "display_name": "Python 3",
   "language": "python",
   "name": "python3"
  },
  "language_info": {
   "codemirror_mode": {
    "name": "ipython",
    "version": 2
   },
   "file_extension": ".py",
   "mimetype": "text/x-python",
   "name": "python",
   "nbconvert_exporter": "python",
   "pygments_lexer": "ipython2",
   "version": "2.7.6"
  }
 },
 "nbformat": 4,
 "nbformat_minor": 0
}