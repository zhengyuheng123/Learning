{
 "cells": [
  {
   "cell_type": "code",
   "execution_count": 10,
   "metadata": {
    "collapsed": true
   },
   "outputs": [
    {
     "name": "stdout",
     "output_type": "stream",
     "text": [
      "x y z\n",
      "(1, 2, 3) <class 'tuple'>\n",
      "[1, 2] <class 'list'> 3 <class 'int'>\n"
     ]
    }
   ],
   "source": [
    "#序列解包\n",
    "x,y,z = 'x','y','z'\n",
    "print(x,y,z)\n",
    "number = 1,2,3\n",
    "print(number,type(number))\n",
    "*x,y = (1,2,3)\n",
    "print(x,type(x),y,type(y))"
   ]
  },
  {
   "cell_type": "code",
   "execution_count": 13,
   "outputs": [
    {
     "name": "stdout",
     "output_type": "stream",
     "text": [
      "False False\n",
      "True False\n"
     ]
    }
   ],
   "source": [
    "#非零即真，非空即真\n",
    "print(bool(None),bool())\n",
    "print(bool([1,2]),bool([]))"
   ],
   "metadata": {
    "collapsed": false,
    "pycharm": {
     "name": "#%%\n"
    }
   }
  },
  {
   "cell_type": "code",
   "execution_count": 14,
   "outputs": [
    {
     "name": "stdout",
     "output_type": "stream",
     "text": [
      "You are legal to be married.\n"
     ]
    }
   ],
   "source": [
    "#ifelse语句\n",
    "iAge = int(input(\"Hey boy,how old are you?\"))\n",
    "if iAge>=22:\n",
    "    print(\"You are legal to be married.\")\n",
    "else:\n",
    "    print(\"You are still too young.\")"
   ],
   "metadata": {
    "collapsed": false,
    "pycharm": {
     "name": "#%%\n"
    }
   }
  },
  {
   "cell_type": "code",
   "execution_count": 15,
   "outputs": [
    {
     "name": "stdout",
     "output_type": "stream",
     "text": [
      "You are legal to be married.\n"
     ]
    }
   ],
   "source": [
    "#ifelifelse语句\n",
    "iAge = int(input(\"Hey boy,how old are you?\"))\n",
    "sGender = input(\"Are you a boy or a girl:\")\n",
    "if sGender == \"boy\":\n",
    "    if iAge>=22:\n",
    "        print(\"You are legal to be married.\")\n",
    "    else:\n",
    "        print(\"You are still too young.\")\n",
    "elif sGender == \"girl\":\n",
    "    if iAge>=20:\n",
    "        print(\"You are legal to be married.\")\n",
    "    else:\n",
    "        print(\"You are still too young.\")\n",
    "else:\n",
    "    print(\"Unrecognized gender, it should be 'boy' or 'girl'.\")"
   ],
   "metadata": {
    "collapsed": false,
    "pycharm": {
     "name": "#%%\n"
    }
   }
  },
  {
   "cell_type": "code",
   "execution_count": 16,
   "outputs": [
    {
     "name": "stdout",
     "output_type": "stream",
     "text": [
      "You legal marry age is: 22\n"
     ]
    }
   ],
   "source": [
    "#条件表达式\n",
    "sGender = input(\"Are you a boy or a girl:\")\n",
    "iMarryAge = 22 if sGender ==\"boy\" else 20\n",
    "print(\"You legal marry age is:\",iMarryAge)"
   ],
   "metadata": {
    "collapsed": false,
    "pycharm": {
     "name": "#%%\n"
    }
   }
  },
  {
   "cell_type": "code",
   "execution_count": 18,
   "outputs": [
    {
     "name": "stdout",
     "output_type": "stream",
     "text": [
      "Unknown\n"
     ]
    }
   ],
   "source": [
    "#布尔运算的短路\n",
    "# a and b and c    当a为假时，结果直接为假，不考虑b、c\n",
    "# a or b or c      当a为真时，结果直接为真，不考虑b、c\n",
    "name = input(\"What is your name?\") or \"Unknown\"\n",
    "print(\"Your name is :\",name)"
   ],
   "metadata": {
    "collapsed": false,
    "pycharm": {
     "name": "#%%\n"
    }
   }
  },
  {
   "cell_type": "code",
   "execution_count": 23,
   "outputs": [
    {
     "name": "stdout",
     "output_type": "stream",
     "text": [
      "48.833333333333336\n"
     ]
    }
   ],
   "source": [
    "#断言(断言为真，则无影响继续执行，若断言为假，则在该行报错)\n",
    "def AverageScore(scores):\n",
    "    assert len(scores)>0   #断言其至少有一门成绩\n",
    "    assert max(scores)<=100\n",
    "    assert min(scores)>=0\n",
    "    return sum(scores)/len(scores)\n",
    "\n",
    "scores = [78,99,22,12,15,67]\n",
    "print(AverageScore(scores))"
   ],
   "metadata": {
    "collapsed": false,
    "pycharm": {
     "name": "#%%\n"
    }
   }
  },
  {
   "cell_type": "code",
   "execution_count": 25,
   "outputs": [
    {
     "name": "stdout",
     "output_type": "stream",
     "text": [
      "a\n",
      "b\n",
      "c\n",
      "d\n",
      "e\n",
      "f\n",
      "g\n"
     ]
    }
   ],
   "source": [
    "#for循环\n",
    "for x in \"abcdefg\":\n",
    "    print(x)"
   ],
   "metadata": {
    "collapsed": false,
    "pycharm": {
     "name": "#%%\n"
    }
   }
  },
  {
   "cell_type": "code",
   "execution_count": 28,
   "outputs": [
    {
     "name": "stdout",
     "output_type": "stream",
     "text": [
      "0\n"
     ]
    }
   ],
   "source": [
    "#while循环\n",
    "sum = i = 0\n",
    "while i<=100:\n",
    "    sum += i\n",
    "    i += 1\n",
    "print(sum)"
   ],
   "metadata": {
    "collapsed": false,
    "pycharm": {
     "name": "#%%\n"
    }
   }
  },
  {
   "cell_type": "code",
   "execution_count": 32,
   "outputs": [
    {
     "name": "stdout",
     "output_type": "stream",
     "text": [
      "Parrot says: Hi\n",
      "Parrot says: \n",
      "Parrot says: Hello\n",
      "Parrot says: \n",
      "Parrot says: \n",
      "Parrot says: q\n"
     ]
    }
   ],
   "source": [
    "#跳出循环(for循环和while循环)\n",
    "while True:\n",
    "    sMessage = input(\"I am a parrot, say something to me (q to quit):\")\n",
    "    print(\"Parrot says:\",sMessage)\n",
    "    if sMessage == \"q\":\n",
    "        break"
   ],
   "metadata": {
    "collapsed": false,
    "pycharm": {
     "name": "#%%\n"
    }
   }
  },
  {
   "cell_type": "code",
   "execution_count": 33,
   "outputs": [
    {
     "name": "stdout",
     "output_type": "stream",
     "text": [
      "Hi Tom Henry\n",
      "We found following henrys: ['Tom Henry']\n"
     ]
    }
   ],
   "source": [
    "#结束当次迭代\n",
    "names = [\"Peter Anderson\",\"Frank Bush\",\"Tom Henry\",\"Jack Lee\"]\n",
    "i = 0\n",
    "henrys = []\n",
    "while i < len(names):\n",
    "    sName =names[i]\n",
    "    i+=1\n",
    "    if not sName.endswith(\"Henry\"):\n",
    "        continue\n",
    "    print(\"Hi\",sName)\n",
    "    henrys.append(sName)\n",
    "print(\"We found following henrys:\",henrys)"
   ],
   "metadata": {
    "collapsed": false,
    "pycharm": {
     "name": "#%%\n"
    }
   }
  },
  {
   "cell_type": "code",
   "execution_count": 34,
   "outputs": [
    {
     "name": "stdout",
     "output_type": "stream",
     "text": [
      "[4, 6, 8, 10, 12]\n",
      "[6, 8, 10, 12, 14]\n",
      "[8, 10, 12, 14, 16]\n",
      "[10, 12, 14, 16, 18]\n",
      "[12, 14, 16, 18, 20]\n",
      "[14, 16, 18, 20, 22]\n"
     ]
    }
   ],
   "source": [
    "#双重循环\n",
    "matrix = [[x+1+y+1 for x in range(5)] for y in range(6)]\n",
    "for r in range(6):\n",
    "    for c in range(5):\n",
    "        matrix[r][c] *= 2\n",
    "for r in matrix:\n",
    "    print(r)"
   ],
   "metadata": {
    "collapsed": false,
    "pycharm": {
     "name": "#%%\n"
    }
   }
  },
  {
   "cell_type": "code",
   "execution_count": 37,
   "outputs": [
    {
     "name": "stdout",
     "output_type": "stream",
     "text": [
      "Tom's salary/week: 1200\n",
      "Andy's salary/week: 1050\n",
      "Alex's salary/week: 1600\n",
      "Dorothy's salary/week: 2010\n",
      "<zip object at 0x000002C3B1BE5FC8>\n",
      "[('Tom', 1200), ('Andy', 1050), ('Alex', 1600), ('Dorothy', 2010)]\n",
      "Tom's salary/week: 1200\n",
      "Andy's salary/week: 1050\n",
      "Alex's salary/week: 1600\n",
      "Dorothy's salary/week: 2010\n"
     ]
    }
   ],
   "source": [
    "#序列的缝合与解包\n",
    "names = [\"Tom\",\"Andy\",\"Alex\",\"Dorothy\"]\n",
    "salarys = [1200,1050,1600,2010]\n",
    "for i in range(len(names)):\n",
    "    print(names[i] + \"'s salary/week:\",salarys[i])\n",
    "\n",
    "zipped = zip(names,salarys)\n",
    "print(zipped)\n",
    "print(list(zipped))\n",
    "\n",
    "for name,salary in zip(names,salarys):\n",
    "    print(name + \"'s salary/week:\",salary)"
   ],
   "metadata": {
    "collapsed": false,
    "pycharm": {
     "name": "#%%\n"
    }
   }
  },
  {
   "cell_type": "code",
   "execution_count": 39,
   "outputs": [
    {
     "name": "stdout",
     "output_type": "stream",
     "text": [
      "[(0, 'Tom'), (1, 'Andy'), (2, 'Alex'), (3, 'Dorothy')]\n",
      "Tom is at index 0\n",
      "Andy is at index 1\n",
      "Alex is at index 2\n",
      "Dorothy is at index 3\n"
     ]
    }
   ],
   "source": [
    "#带下标的遍历\n",
    "names = [\"Tom\",\"Andy\",\"Alex\",\"Dorothy\"]\n",
    "print(list(enumerate(names)))\n",
    "for idx,name in enumerate(names):\n",
    "    print(name,\"is at index\",idx)"
   ],
   "metadata": {
    "collapsed": false,
    "pycharm": {
     "name": "#%%\n"
    }
   }
  },
  {
   "cell_type": "code",
   "execution_count": 41,
   "outputs": [
    {
     "name": "stdout",
     "output_type": "stream",
     "text": [
      "Dorothy\n",
      "Alex\n",
      "Andy\n",
      "Tom\n",
      "['Tom', 'Andy', 'Alex', 'Dorothy']\n"
     ]
    }
   ],
   "source": [
    "#反向遍历\n",
    "names = [\"Tom\",\"Andy\",\"Alex\",\"Dorothy\"]\n",
    "for x in reversed(names):\n",
    "    print(x)\n",
    "print(names)"
   ],
   "metadata": {
    "collapsed": false,
    "pycharm": {
     "name": "#%%\n"
    }
   }
  },
  {
   "cell_type": "code",
   "execution_count": 44,
   "outputs": [
    {
     "name": "stdout",
     "output_type": "stream",
     "text": [
      "Anything\n"
     ]
    }
   ],
   "source": [
    "#del函数\n",
    "x = \"Anything\"\n",
    "y = x\n",
    "del y     #删除y这个绑定关系\n",
    "print(x)"
   ],
   "metadata": {
    "collapsed": false,
    "pycharm": {
     "name": "#%%\n"
    }
   }
  },
  {
   "cell_type": "code",
   "execution_count": 53,
   "outputs": [
    {
     "name": "stdout",
     "output_type": "stream",
     "text": [
      "Hello world!\n",
      "2\n",
      "50\n"
     ]
    }
   ],
   "source": [
    "#exec函数(将字符串当作python来执行)\n",
    "exec(\"print('Hello world!')\")\n",
    "exec(\"print(1+1)\")\n",
    "\n",
    "scopeTmp = {}\n",
    "scopeTmp['x'] =30\n",
    "scopeTmp['y'] =20\n",
    "exec(\"sum = x + y\",scopeTmp)\n",
    "print(scopeTmp['sum'])"
   ],
   "metadata": {
    "collapsed": false,
    "pycharm": {
     "name": "#%%\n"
    }
   }
  },
  {
   "cell_type": "code",
   "execution_count": 55,
   "outputs": [
    {
     "name": "stdout",
     "output_type": "stream",
     "text": [
      "Hello world!\n",
      "None\n",
      "0\n",
      "[1,2,3] <class 'str'>\n",
      "[1, 2, 3] <class 'list'>\n"
     ]
    }
   ],
   "source": [
    "#eval函数(计算并返回表达式的值)\n",
    "r=eval(\"print('Hello world!')\")\n",
    "print(r)\n",
    "r=eval(\"3+2-5\")\n",
    "print(r)\n",
    "\n",
    "x = input()\n",
    "print(x,type(x))\n",
    "x = eval(x)\n",
    "print(x,type(x))"
   ],
   "metadata": {
    "collapsed": false,
    "pycharm": {
     "name": "#%%\n"
    }
   }
  }
 ],
 "metadata": {
  "kernelspec": {
   "display_name": "Python 3",
   "language": "python",
   "name": "python3"
  },
  "language_info": {
   "codemirror_mode": {
    "name": "ipython",
    "version": 2
   },
   "file_extension": ".py",
   "mimetype": "text/x-python",
   "name": "python",
   "nbconvert_exporter": "python",
   "pygments_lexer": "ipython2",
   "version": "2.7.6"
  }
 },
 "nbformat": 4,
 "nbformat_minor": 0
}