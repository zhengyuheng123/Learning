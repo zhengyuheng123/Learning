{
 "cells": [
  {
   "cell_type": "code",
   "execution_count": 5,
   "metadata": {
    "collapsed": true
   },
   "outputs": [
    {
     "name": "stdout",
     "output_type": "stream",
     "text": [
      "1\n",
      "11\n",
      "5\n",
      "1\n"
     ]
    }
   ],
   "source": [
    "#函数的定义\n",
    "def f(x):\n",
    "    return x*x+3*x+1\n",
    "print(f(0))\n",
    "print(f(2))\n",
    "print(f(-4))\n",
    "\n",
    "tmp = f\n",
    "print(tmp(0))"
   ]
  },
  {
   "cell_type": "code",
   "execution_count": 6,
   "outputs": [
    {
     "name": "stdout",
     "output_type": "stream",
     "text": [
      "Calulate the sum of two numbers.\n",
      " The numbers could be integer or float. \n"
     ]
    }
   ],
   "source": [
    "#函数文档\n",
    "def add(x,y):\n",
    "    \"Calulate the sum of two numbers.\\n The numbers could be integer or float. \"\n",
    "    return x+y\n",
    "print(add.__doc__)"
   ],
   "metadata": {
    "collapsed": false,
    "pycharm": {
     "name": "#%%\n"
    }
   }
  },
  {
   "cell_type": "code",
   "execution_count": 1,
   "outputs": [
    {
     "name": "stdout",
     "output_type": "stream",
     "text": [
      "before: id(a)= 140735634514368 id(b)= 140735634514400\n",
      "in function: id(x)= 140735634514368 id(y)= 140735634514400\n",
      "x,y swap: id(x)= 140735634514400 id(y)= 140735634514368\n",
      "5\n",
      "after: id(a)= 140735634514368 id(b)= 140735634514400\n",
      "2 3\n"
     ]
    }
   ],
   "source": [
    "#函数的参数\n",
    "#(当传递参数为只读类型时，形参不能修改实参；当传递参数为可修改类型时，形参可以修改实参)\n",
    "def swap(x,y):\n",
    "    print(\"in function:\",\"id(x)=\",id(x),\"id(y)=\",id(y))\n",
    "    x,y=y,x\n",
    "    s=x+y\n",
    "    print(\"x,y swap:\",\"id(x)=\",id(x),\"id(y)=\",id(y))\n",
    "    return s\n",
    "a,b=eval(input(\"input a&b(a,b):\"))\n",
    "print(\"before:\",\"id(a)=\",id(a),\"id(b)=\",id(b))\n",
    "print(swap(a,b))\n",
    "print(\"after:\",\"id(a)=\",id(a),\"id(b)=\",id(b))\n",
    "print(a,b)"
   ],
   "metadata": {
    "collapsed": false,
    "pycharm": {
     "name": "#%%\n"
    }
   }
  },
  {
   "cell_type": "code",
   "execution_count": 6,
   "outputs": [
    {
     "name": "stdout",
     "output_type": "stream",
     "text": [
      "id(sName) 2657371698288\n",
      "id(n) 2657371698288\n",
      "n changed: 2657371729392\n",
      "Hi, Mr john henry\n",
      "sName after function call: 2657371698288 john henry\n"
     ]
    }
   ],
   "source": [
    "#函数默认值参数\n",
    "def greeting(n,gender='male'):\n",
    "    print(\"id(n)\",id(n))\n",
    "    s = \"Mr \" if gender == \"male\" else \"Miss\"\n",
    "    n = s + n\n",
    "    print(\"n changed:\",id(n))\n",
    "    print(\"Hi,\",n)\n",
    "    return\n",
    "sName = \"john henry\"\n",
    "print(\"id(sName)\",id(sName))\n",
    "greeting(sName)\n",
    "print(\"sName after function call:\",id(sName),sName)"
   ],
   "metadata": {
    "collapsed": false,
    "pycharm": {
     "name": "#%%\n"
    }
   }
  },
  {
   "cell_type": "code",
   "execution_count": 13,
   "outputs": [
    {
     "name": "stdout",
     "output_type": "stream",
     "text": [
      "{'id': '3604020001', 'name': 'Dora Henry', 'age': 22}\n"
     ]
    }
   ],
   "source": [
    "#非只读类型参数\n",
    "def initPerson(person,id,name,age):\n",
    "    assert type(person) == dict\n",
    "    person[\"id\"]=id\n",
    "    person[\"name\"]=name\n",
    "    person[\"age\"]=age\n",
    "dora={}\n",
    "initPerson(dora,\"3604020001\",\"Dora Henry\",22)\n",
    "print(dora)"
   ],
   "metadata": {
    "collapsed": false,
    "pycharm": {
     "name": "#%%\n"
    }
   }
  },
  {
   "cell_type": "code",
   "execution_count": 15,
   "outputs": [
    {
     "name": "stdout",
     "output_type": "stream",
     "text": [
      "Hi, Mr Henry\n",
      "Hi, Mr Henry\n"
     ]
    }
   ],
   "source": [
    "#关键字参数\n",
    "def greeting(name,gender):\n",
    "    name = name.title()\n",
    "    s = \"Mr\" if gender =='male' else 'Miss'\n",
    "    print(\"Hi,\",s,name)\n",
    "greeting('henry','male')\n",
    "greeting(gender='male',name='henry')"
   ],
   "metadata": {
    "collapsed": false,
    "pycharm": {
     "name": "#%%\n"
    }
   }
  },
  {
   "cell_type": "code",
   "execution_count": 17,
   "outputs": [
    {
     "name": "stdout",
     "output_type": "stream",
     "text": [
      "int\n",
      "float\n",
      "str\n",
      "bool\n"
     ]
    }
   ],
   "source": [
    "#任意数量的参数\n",
    "def myPrint(title,*contents):\n",
    "    print(title)\n",
    "    for x in contents:\n",
    "        print(x)\n",
    "myPrint(\"int\",\"float\",\"str\",\"bool\")"
   ],
   "metadata": {
    "collapsed": false,
    "pycharm": {
     "name": "#%%\n"
    }
   }
  },
  {
   "cell_type": "code",
   "execution_count": 18,
   "outputs": [
    {
     "name": "stdout",
     "output_type": "stream",
     "text": [
      "Dora's information :\n",
      "\t name\t: Dora Chen\n",
      "\t age\t: 26\n",
      "\t salary\t: 3200\n",
      "<class 'dict'>\n"
     ]
    }
   ],
   "source": [
    "#吸收关键字参数\n",
    "def myPrint(title,**contents):\n",
    "    print(title,\":\")\n",
    "    for k,v in contents.items():\n",
    "        print(\"\\t\",k+\"\\t:\",v)\n",
    "    print(type(contents))\n",
    "myPrint(\"Dora's information\",name=\"Dora Chen\",age=26,salary=3200)"
   ],
   "metadata": {
    "collapsed": false,
    "pycharm": {
     "name": "#%%\n"
    }
   }
  },
  {
   "cell_type": "code",
   "execution_count": 20,
   "outputs": [
    {
     "name": "stdout",
     "output_type": "stream",
     "text": [
      "Dora's information :\n",
      "\tname:\t Dora Chen\n",
      "\tage:\t 26\n",
      "\tsalary:\t 3200\n",
      "Dora's information :\n",
      "\tname:\t Dora Chen\n",
      "\tage:\t 26\n",
      "\tsalary:\t 3200\n"
     ]
    }
   ],
   "source": [
    "#参数分配\n",
    "def myPrint(title,name, gender,age,salary):\n",
    "    print(title,\":\")\n",
    "    print(\"\\tname:\\t\",name)\n",
    "    print(\"\\tage:\\t\",age)\n",
    "    print(\"\\tsalary:\\t\",salary)\n",
    "dora=(\"Dora's information\",\"Dora Chen\",\"female\",26,3200)\n",
    "myPrint(*dora)\n",
    "dora2=dict(name=\"Dora Chen\",age=26,gender=\"female\",salary=3200)\n",
    "myPrint(\"Dora's information\",**dora2)"
   ],
   "metadata": {
    "collapsed": false,
    "pycharm": {
     "name": "#%%\n"
    }
   }
  },
  {
   "cell_type": "code",
   "execution_count": null,
   "outputs": [],
   "source": [
    "#函数的多个返回值"
   ],
   "metadata": {
    "collapsed": false,
    "pycharm": {
     "name": "#%%\n"
    }
   }
  }
 ],
 "metadata": {
  "kernelspec": {
   "display_name": "Python 3",
   "language": "python",
   "name": "python3"
  },
  "language_info": {
   "codemirror_mode": {
    "name": "ipython",
    "version": 2
   },
   "file_extension": ".py",
   "mimetype": "text/x-python",
   "name": "python",
   "nbconvert_exporter": "python",
   "pygments_lexer": "ipython2",
   "version": "2.7.6"
  }
 },
 "nbformat": 4,
 "nbformat_minor": 0
}